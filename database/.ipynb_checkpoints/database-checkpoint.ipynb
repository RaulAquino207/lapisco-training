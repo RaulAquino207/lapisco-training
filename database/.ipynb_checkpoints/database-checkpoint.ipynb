{
 "cells": [
  {
   "cell_type": "code",
   "execution_count": 1,
   "metadata": {},
   "outputs": [],
   "source": [
    "import mysql.connector\n",
    "from datetime import date\n",
    "import asyncio\n",
    "import random\n",
    "from time import sleep"
   ]
  },
  {
   "cell_type": "markdown",
   "metadata": {},
   "source": [
    "Questões:\n",
    "1) Insira 3 registros para cada tabela criada. ✅\n",
    "\n",
    "2) Encontre todas as novelas que tenham o valor do horário de exibição vazio. ✅\n",
    "\n",
    "3) Selecione o nome de todos os atores que morem em cidades que comecem com a letra “M”. ✅\n",
    "\n",
    "4) Selecione todos os campos da tabela tbPersonagem ordenados por nome em ordem crescente. ✅\n",
    "\n",
    "5) Selecione quantos capítulos existem por novela, retorne o nome da novela e a quantidade de capítulos para a novela. ✅\n",
    "\n",
    "6) Encontre o nome de todas as novelas que tem mais de 40 capítulos. ✅"
   ]
  },
  {
   "cell_type": "markdown",
   "metadata": {},
   "source": [
    "### INSERT"
   ]
  },
  {
   "cell_type": "code",
   "execution_count": 2,
   "metadata": {},
   "outputs": [],
   "source": [
    "con = mysql.connector.connect(\n",
    "    user='root',\n",
    "    password='Raulaquino@2011',\n",
    "    host='localhost',\n",
    "    database='trainee'\n",
    ")"
   ]
  },
  {
   "cell_type": "markdown",
   "metadata": {},
   "source": [
    "1) Insira 3 registros para cada tabela criada. ✅"
   ]
  },
  {
   "cell_type": "code",
   "execution_count": 3,
   "metadata": {},
   "outputs": [],
   "source": [
    "add_novela = (\"INSERT INTO tbNovela \"\n",
    "               \"(codigo_novela, nome_novela, data_primeiro_capitulo, data_ultimo_capitulo, horario_exibicao) \"\n",
    "               \"VALUES (%s, %s, %s, %s, %s)\")\n",
    "\n",
    "add_novela_problem = (\"INSERT INTO tbNovela \"\n",
    "               \"(codigo_novela, nome_novela, data_primeiro_capitulo, data_ultimo_capitulo) \"\n",
    "               \"VALUES (%s, %s, %s, %s)\")\n",
    "\n",
    "data_novela_1 = (1, 'Mulheres apaixonadas', date(2003, 2, 17), date(2003, 10, 11), '20:00') #203 cap\n",
    "data_novela_2 = (2, 'Mulheres de Areia', date(1993, 2, 1), date(1993, 9, 25), '18:00') #201 cap\n",
    "data_novela_3 = (3, 'Chocolate com Pimenta', date(2003, 9, 8), date(2004, 5, 7)) #209 cap"
   ]
  },
  {
   "cell_type": "code",
   "execution_count": 4,
   "metadata": {},
   "outputs": [],
   "source": [
    "add_ator = (\"INSERT INTO tbAtor \"\n",
    "               \"(codigo_ator, nome_ator, idade, cidade_ator, salario_ator, sexo_ator) \"\n",
    "               \"VALUES (%s, %s, %s, %s, %s, %s)\")\n",
    "\n",
    "data_ator_1 = (1, 'Monalisa Sousa', 22, 'Londres', 24000.00, 'F')\n",
    "data_ator_2 = (2, 'Nityananda Barbosa', 22, 'Maranguape', 10000.00, 'M')\n",
    "data_ator_3 = (3, 'Joshuel Nobre', 22, 'Maranguape', 8500.00, 'M')"
   ]
  },
  {
   "cell_type": "code",
   "execution_count": 5,
   "metadata": {},
   "outputs": [],
   "source": [
    "add_personagem = (\"INSERT INTO tbPersonagem \"\n",
    "               \"(codigo_personagem, nome_personagem, idade_personagem, situacao_fnanceira_personagem, codigo_ator) \"\n",
    "               \"VALUES (%s, %s, %s, %s, %s)\")\n",
    "\n",
    "data_personagem_1 = (1, 'Joana', 27, 'rico', 1)\n",
    "data_personagem_2 = (2, 'Daniel', 29, 'pobre', 2)\n",
    "data_personagem_3 = (3, 'Marcos', 25, 'rico', 3)"
   ]
  },
  {
   "cell_type": "code",
   "execution_count": 6,
   "metadata": {},
   "outputs": [],
   "source": [
    "add_novela_personagem = (\"INSERT INTO tbNovelaPersonagem \"\n",
    "               \"(codigo_personagem, codigo_novela) \"\n",
    "               \"VALUES (%s, %s)\")\n",
    "\n",
    "data_novela_personagem_1 = (1,1)\n",
    "data_novela_personagem_2 = (2,2)\n",
    "data_novela_personagem_3 = (3,3)"
   ]
  },
  {
   "cell_type": "code",
   "execution_count": 7,
   "metadata": {},
   "outputs": [],
   "source": [
    "add_capitulo = (\"INSERT INTO tbCapitulo \"\n",
    "               \"(nome_capitulo, data_exibicao_capitulo, codigo_novela) \"\n",
    "               \"VALUES (%s, %s, %s)\")"
   ]
  },
  {
   "cell_type": "code",
   "execution_count": 8,
   "metadata": {},
   "outputs": [
    {
     "name": "stdout",
     "output_type": "stream",
     "text": [
      "0\n"
     ]
    },
    {
     "data": {
      "text/plain": [
       "True"
      ]
     },
     "execution_count": 8,
     "metadata": {},
     "output_type": "execute_result"
    }
   ],
   "source": [
    "# INSERT INTO tbNovela (codigo_novela, nome_novela, data_primeiro_capitulo, data_ultimo_capitulo, horario_exibicao) \n",
    "# VALUES (1, 'Mulheres apaixonadas', '2003-2-17', '2003-10-11', '20:00');\n",
    "\n",
    "# INSERT INTO tbNovela (codigo_novela, nome_novela, data_primeiro_capitulo, data_ultimo_capitulo, horario_exibicao) \n",
    "# VALUES (2, 'Mulheres de Areia', '1993-2-1', '1993-9-25', '18:00');\n",
    "\n",
    "# INSERT INTO tbNovela (codigo_novela, nome_novela, data_primeiro_capitulo, data_ultimo_capitulo) \n",
    "# VALUES (3, 'Chocolate com Pimenta', '2003-9-8', '2004-5-7');\n",
    "\n",
    "cursor = con.cursor()\n",
    "\n",
    "cursor.execute(add_novela, data_novela_1)\n",
    "cursor.execute(add_novela, data_novela_2)\n",
    "cursor.execute(add_novela_problem, data_novela_3)\n",
    "\n",
    "novela_no = cursor.lastrowid\n",
    "print(novela_no)\n",
    "\n",
    "con.commit()\n",
    "cursor.close()"
   ]
  },
  {
   "cell_type": "code",
   "execution_count": 9,
   "metadata": {},
   "outputs": [
    {
     "name": "stdout",
     "output_type": "stream",
     "text": [
      "0\n"
     ]
    },
    {
     "data": {
      "text/plain": [
       "True"
      ]
     },
     "execution_count": 9,
     "metadata": {},
     "output_type": "execute_result"
    }
   ],
   "source": [
    "# INSERT INTO tbAtor (codigo_ator, nome_ator, idade, cidade_ator, salario_ator, sexo_ator)\n",
    "# VALUES (1, 'Monalisa Sousa', 22, 'Londres', 24000.00, 'F')\n",
    "\n",
    "# INSERT INTO tbAtor (codigo_ator, nome_ator, idade, cidade_ator, salario_ator, sexo_ator)\n",
    "# VALUES (2, 'Nityananda Barbosa', 22, 'Maranguape', 10000.00, 'M')\n",
    "\n",
    "# INSERT INTO tbAtor (codigo_ator, nome_ator, idade, cidade_ator, salario_ator, sexo_ator)\n",
    "# VALUES (3, 'Joshuel Nobre', 22, 'Maranguape', 8500.00, 'M')\n",
    "\n",
    "cursor = con.cursor()\n",
    "\n",
    "cursor.execute(add_ator, data_ator_1)\n",
    "cursor.execute(add_ator, data_ator_2)\n",
    "cursor.execute(add_ator, data_ator_3)\n",
    "\n",
    "novela_no = cursor.lastrowid\n",
    "print(novela_no)\n",
    "\n",
    "con.commit()\n",
    "cursor.close()"
   ]
  },
  {
   "cell_type": "code",
   "execution_count": 10,
   "metadata": {},
   "outputs": [
    {
     "name": "stdout",
     "output_type": "stream",
     "text": [
      "0\n"
     ]
    },
    {
     "data": {
      "text/plain": [
       "True"
      ]
     },
     "execution_count": 10,
     "metadata": {},
     "output_type": "execute_result"
    }
   ],
   "source": [
    "# INSERT INTO tbPersonagem (codigo_personagem, nome_personagem, idade_personagem, situacao_fnanceira_personagem, codigo_ator)\n",
    "# VALUES (1, 'Joana', 27, 'rico', 1)\n",
    "\n",
    "# INSERT INTO tbPersonagem (codigo_personagem, nome_personagem, idade_personagem, situacao_fnanceira_personagem, codigo_ator)\n",
    "# VALUES (2, 'Daniel', 29, 'pobre', 2)\n",
    "\n",
    "# INSERT INTO tbPersonagem (codigo_personagem, nome_personagem, idade_personagem, situacao_fnanceira_personagem, codigo_ator)\n",
    "# VALUES (3, 'Marcos', 25, 'rico', 3)\n",
    "\n",
    "cursor = con.cursor()\n",
    "\n",
    "cursor.execute(add_personagem, data_personagem_1)\n",
    "cursor.execute(add_personagem, data_personagem_2)\n",
    "cursor.execute(add_personagem, data_personagem_3)\n",
    "\n",
    "novela_no = cursor.lastrowid\n",
    "print(novela_no)\n",
    "\n",
    "con.commit()\n",
    "cursor.close()"
   ]
  },
  {
   "cell_type": "code",
   "execution_count": 11,
   "metadata": {},
   "outputs": [
    {
     "name": "stdout",
     "output_type": "stream",
     "text": [
      "0\n"
     ]
    },
    {
     "data": {
      "text/plain": [
       "True"
      ]
     },
     "execution_count": 11,
     "metadata": {},
     "output_type": "execute_result"
    }
   ],
   "source": [
    "cursor = con.cursor()\n",
    "# INSERT INTO tbNovelaPersonagem (codigo_personagem, codigo_novela)\n",
    "# VALUES (1, 1)\n",
    "\n",
    "# INSERT INTO tbNovelaPersonagem (codigo_personagem, codigo_novela)\n",
    "# VALUES (2, 2)\n",
    "\n",
    "# INSERT INTO tbNovelaPersonagem (codigo_personagem, codigo_novela)\n",
    "# VALUES (3, 3)\n",
    "\n",
    "cursor.execute(add_novela_personagem, data_novela_personagem_1)\n",
    "cursor.execute(add_novela_personagem, data_novela_personagem_2)\n",
    "cursor.execute(add_novela_personagem, data_novela_personagem_3)\n",
    "\n",
    "novela_no = cursor.lastrowid\n",
    "print(novela_no)\n",
    "\n",
    "con.commit()\n",
    "cursor.close()"
   ]
  },
  {
   "cell_type": "code",
   "execution_count": 12,
   "metadata": {},
   "outputs": [],
   "source": [
    "months_28 = {2 : 28}\n",
    "months_30 = {4 : 30, 6 : 30, 9 : 30, 11 : 30}\n",
    "months_31 = {1 : 31, 3 : 31, 5 : 31, 7 : 31, 8 : 31, 10 : 31, 12 : 31}\n",
    "# print(date(1999, 1, 25).weekday())"
   ]
  },
  {
   "cell_type": "code",
   "execution_count": 13,
   "metadata": {},
   "outputs": [],
   "source": [
    "# add_capitulo = (\"INSERT INTO tbCapitulo \"\n",
    "#                \"(codigo_capitulo, nome_capitulo, data_exibicao_capitulo) \"\n",
    "#                \"VALUES (%s, %s, %s)\")\n",
    "def aux_add(aux, date, novela):\n",
    "    cursor = con.cursor()\n",
    "    data_cap = (aux, date, novela)\n",
    "    cursor.execute(add_capitulo, data_cap)\n",
    "    novela_no = cursor.lastrowid\n",
    "    con.commit()\n",
    "    cursor.close()\n",
    "\n",
    "def add_cap(name, initial_data, caps, novela):\n",
    "    day = initial_data.day\n",
    "    month = initial_data.month\n",
    "    year = initial_data.year\n",
    "    ep = 0\n",
    "    for i in range(caps):\n",
    "        aux = ''\n",
    "        ep +=1\n",
    "        aux = name + '_cap_{}'.format(ep)\n",
    "\n",
    "        if i == 0:\n",
    "            aux_add(aux, initial_data, novela)\n",
    "        else:\n",
    "            if month in months_28.keys():\n",
    "                if day < 28:\n",
    "                    day += 1\n",
    "                    \n",
    "                    aux_add(aux, date(year, month, day), novela)\n",
    "\n",
    "                else:\n",
    "                    month += 1\n",
    "                    day = 1\n",
    "\n",
    "                    aux_add(aux, date(year, month, day), novela)\n",
    "                    \n",
    "            elif month in months_30.keys():\n",
    "                if day < 30:\n",
    "                    day += 1\n",
    "                    \n",
    "                    aux_add(aux, date(year, month, day), novela)\n",
    "                else:\n",
    "                    month += 1\n",
    "                    day = 1     \n",
    "                    \n",
    "                    aux_add(aux, date(year, month, day), novela)\n",
    "\n",
    "            elif month in months_31.keys():\n",
    "                if day == 31 and month == 12:\n",
    "                    day = 1\n",
    "                    month = 1\n",
    "                    year += 1\n",
    "                    \n",
    "                    aux_add(aux, date(year, month, day), novela)\n",
    "\n",
    "                if day < 31:\n",
    "                    day += 1\n",
    "                    \n",
    "                    aux_add(aux, date(year, month, day), novela)\n",
    "                else:\n",
    "                    month += 1\n",
    "                    day = 1\n",
    "                    \n",
    "                    aux_add(aux, date(year, month, day), novela)\n",
    "\n",
    "def apply_query(query):\n",
    "    cursor = con.cursor()\n",
    "    cursor.execute(query)\n",
    "    myresult = cursor.fetchall()\n",
    "    # print(myresult)\n",
    "\n",
    "    chosen_1 = 0\n",
    "    chosen_2 = 0\n",
    "    for x in myresult:\n",
    "        chosen_1 = list(x)[0]\n",
    "        chosen_2 = list(x)[1]\n",
    "    return chosen_1, chosen_2"
   ]
  },
  {
   "cell_type": "code",
   "execution_count": 14,
   "metadata": {},
   "outputs": [
    {
     "name": "stdout",
     "output_type": "stream",
     "text": [
      "1 2003-02-17\n"
     ]
    }
   ],
   "source": [
    "cap_nov_1 = 103\n",
    "cap_nov_2 = 101\n",
    "cap_nov_3 = 35\n",
    "\n",
    "# SELECT codigo_novela FROM tbNovela\n",
    "# WHERE nome_novela LIKE 'Mulheres apaixonadas'\n",
    "\n",
    "query_1 = (\"SELECT codigo_novela, data_primeiro_capitulo FROM trainee.tbNovela \"\n",
    "         \"WHERE nome_novela LIKE 'Mulheres apaixonadas%' \")\n",
    "\n",
    "query_2 = (\"SELECT codigo_novela, data_primeiro_capitulo FROM trainee.tbNovela \"\n",
    "         \"WHERE nome_novela LIKE 'Mulheres de Areia%' \")\n",
    "\n",
    "query_3 = (\"SELECT codigo_novela, data_primeiro_capitulo FROM trainee.tbNovela \"\n",
    "         \"WHERE nome_novela LIKE 'Chocolate com Pimenta%' \")\n",
    "\n",
    "chose_1, date_1 = apply_query(query_1)\n",
    "print(chose_1, date_1)\n",
    "\n",
    "add_cap('mulheres_apaixonadas', date_1, cap_nov_1, chose_1)"
   ]
  },
  {
   "cell_type": "code",
   "execution_count": 15,
   "metadata": {},
   "outputs": [
    {
     "name": "stdout",
     "output_type": "stream",
     "text": [
      "2 1993-02-01\n"
     ]
    }
   ],
   "source": [
    "chose_2, date_2 = apply_query(query_2)\n",
    "print(chose_2, date_2)\n",
    "\n",
    "add_cap('mulheres_de_areia', date_2, cap_nov_2, chose_2)"
   ]
  },
  {
   "cell_type": "code",
   "execution_count": 16,
   "metadata": {},
   "outputs": [
    {
     "name": "stdout",
     "output_type": "stream",
     "text": [
      "3 2003-09-08\n"
     ]
    }
   ],
   "source": [
    "chose_3, date_3 = apply_query(query_3)\n",
    "print(chose_3, date_3)\n",
    "\n",
    "add_cap('chocolate_com_pimenta', date_3, cap_nov_3, chose_3)"
   ]
  },
  {
   "cell_type": "markdown",
   "metadata": {},
   "source": [
    "### QUERY"
   ]
  },
  {
   "cell_type": "markdown",
   "metadata": {},
   "source": [
    "2) Encontre todas as novelas que tenham o valor do horário de exibição vazio. ✅"
   ]
  },
  {
   "cell_type": "code",
   "execution_count": 17,
   "metadata": {},
   "outputs": [
    {
     "name": "stdout",
     "output_type": "stream",
     "text": [
      "('Chocolate com Pimenta', None)\n"
     ]
    }
   ],
   "source": [
    "query_4 = (\"SELECT nome_novela, horario_exibicao FROM trainee.tbNovela \"\n",
    "         \"WHERE horario_exibicao IS NULL \")\n",
    "\n",
    "cursor = con.cursor()\n",
    "cursor.execute(query_4)\n",
    "myresult = cursor.fetchall()\n",
    "\n",
    "for x in myresult:\n",
    "    print(x)"
   ]
  },
  {
   "cell_type": "markdown",
   "metadata": {},
   "source": [
    "3) Selecione o nome de todos os atores que morem em cidades que comecem com a letra “M”. ✅"
   ]
  },
  {
   "cell_type": "code",
   "execution_count": 18,
   "metadata": {},
   "outputs": [
    {
     "name": "stdout",
     "output_type": "stream",
     "text": [
      "('Nityananda Barbosa', 'Maranguape')\n",
      "('Joshuel Nobre', 'Maranguape')\n"
     ]
    }
   ],
   "source": [
    "query_5 = (\"SELECT nome_ator, cidade_ator FROM trainee.tbAtor \"\n",
    "         \"WHERE cidade_ator LIKE '%M%' \")\n",
    "\n",
    "cursor = con.cursor()\n",
    "cursor.execute(query_5)\n",
    "myresult = cursor.fetchall()\n",
    "\n",
    "for x in myresult:\n",
    "    print(x)"
   ]
  },
  {
   "cell_type": "markdown",
   "metadata": {},
   "source": [
    "4) Selecione todos os campos da tabela tbPersonagem ordenados por nome em ordem crescente. ✅"
   ]
  },
  {
   "cell_type": "code",
   "execution_count": 19,
   "metadata": {},
   "outputs": [
    {
     "name": "stdout",
     "output_type": "stream",
     "text": [
      "Personagens organizados em ordem alfabética\n",
      "[(2, 'Daniel', 29, 'pobre', 2), (1, 'Joana', 27, 'rico', 1), (3, 'Marcos', 25, 'rico', 3)]\n"
     ]
    }
   ],
   "source": [
    "query_6 = (\"SELECT * FROM trainee.tbPersonagem \")\n",
    "\n",
    "cursor = con.cursor()\n",
    "cursor.execute(query_6)\n",
    "myresult = cursor.fetchall()\n",
    "\n",
    "names = []\n",
    "personagens = []\n",
    "for x in myresult:\n",
    "#     print(x)\n",
    "    personagens.append(x)\n",
    "    names.append(x[1])\n",
    "    \n",
    "# print(personagens)\n",
    "names = sorted(names)\n",
    "# print(names)\n",
    "\n",
    "def organize(names, personagens):\n",
    "    wrongs_index = []\n",
    "    wrong_values = []\n",
    "    correct_names = []\n",
    "    real_idx = []\n",
    "    copy_personagens = []\n",
    "    validation = False\n",
    "    while(validation != True):\n",
    "        for name, value in zip(names, personagens):\n",
    "            if name not in value:\n",
    "                idx = personagens.index(value)\n",
    "                wrongs_index.append(idx)\n",
    "                wrong_values.append(value)\n",
    "                correct_names.append(name)\n",
    "#                 print('{} O NOME {}'.format(value, name))\n",
    "                \n",
    "            else:\n",
    "                validation = True\n",
    "                \n",
    "        for name in correct_names:\n",
    "            for wrong in wrong_values:\n",
    "                if name in wrong:\n",
    "                    real_idx.append(wrong_values.index(wrong))\n",
    "                 \n",
    "        for correct in real_idx:\n",
    "            copy_personagens.append(personagens[correct])\n",
    "            \n",
    "        for i in personagens:\n",
    "            if i not in copy_personagens:\n",
    "                copy_personagens.append(i)\n",
    "        \n",
    "    return copy_personagens\n",
    "        \n",
    "\n",
    "organized_values = organize(names, personagens)\n",
    "print('Personagens organizados em ordem alfabética')\n",
    "print(organized_values)"
   ]
  },
  {
   "cell_type": "markdown",
   "metadata": {},
   "source": [
    "5) Selecione quantos capítulos existem por novela, retorne o nome da novela e a quantidade de capítulos para a novela. ✅"
   ]
  },
  {
   "cell_type": "code",
   "execution_count": 20,
   "metadata": {},
   "outputs": [
    {
     "name": "stdout",
     "output_type": "stream",
     "text": [
      "A novela Mulheres apaixonadas tem 103 capitulos\n",
      "A novela Mulheres de Areia tem 101 capitulos\n",
      "A novela Chocolate com Pimenta tem 35 capitulos\n"
     ]
    }
   ],
   "source": [
    "query_7 = (\"SELECT N.nome_novela, N.codigo_novela FROM tbNovela AS N \"\n",
    "        \"INNER JOIN tbCapitulo as C ON N.codigo_novela = C.codigo_novela\")\n",
    "\n",
    "cursor = con.cursor()\n",
    "cursor.execute(query_7)\n",
    "myresult = cursor.fetchall()\n",
    "\n",
    "current_cod = 1\n",
    "last_cod = 0\n",
    "nov_caps = []\n",
    "aux_count_1 = []\n",
    "aux_count_2 = []\n",
    "\n",
    "for x in myresult:\n",
    "    current_cod = x[1]\n",
    "    aux_count_1.append(x[1])\n",
    "    if current_cod != last_cod:\n",
    "        last_cod = current_cod\n",
    "        nov_caps.append(x[0])\n",
    "        aux_count_2.append(x[1])\n",
    "\n",
    "for i in range(len(aux_count_2)):\n",
    "    print('A novela {} tem {} capitulos'.format(nov_caps[i], aux_count_1.count(aux_count_2[i])))"
   ]
  },
  {
   "cell_type": "markdown",
   "metadata": {},
   "source": [
    "6) Encontre o nome de todas as novelas que tem mais de 40 capítulos. ✅"
   ]
  },
  {
   "cell_type": "code",
   "execution_count": 21,
   "metadata": {},
   "outputs": [
    {
     "name": "stdout",
     "output_type": "stream",
     "text": [
      "A novela Mulheres apaixonadas tem maide de 40 capitulos, com 103 capitulos\n",
      "A novela Mulheres de Areia tem maide de 40 capitulos, com 101 capitulos\n"
     ]
    }
   ],
   "source": [
    "for i in range(len(aux_count_2)):\n",
    "    if aux_count_1.count(aux_count_2[i]) >= 40:\n",
    "        print('A novela {} tem maide de 40 capitulos, com {} capitulos'.format(nov_caps[i], aux_count_1.count(aux_count_2[i])))"
   ]
  }
 ],
 "metadata": {
  "kernelspec": {
   "display_name": "Python 3",
   "language": "python",
   "name": "python3"
  },
  "language_info": {
   "codemirror_mode": {
    "name": "ipython",
    "version": 3
   },
   "file_extension": ".py",
   "mimetype": "text/x-python",
   "name": "python",
   "nbconvert_exporter": "python",
   "pygments_lexer": "ipython3",
   "version": "3.8.5"
  }
 },
 "nbformat": 4,
 "nbformat_minor": 5
}
