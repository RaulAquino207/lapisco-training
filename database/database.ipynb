{
 "cells": [
  {
   "cell_type": "code",
   "execution_count": 1,
   "metadata": {},
   "outputs": [],
   "source": [
    "import mysql.connector\n",
    "from datetime import date"
   ]
  },
  {
   "cell_type": "code",
   "execution_count": 2,
   "metadata": {},
   "outputs": [],
   "source": [
    "con = mysql.connector.connect(\n",
    "    user='root',\n",
    "    password='Raulaquino@2011',\n",
    "    host='localhost',\n",
    "    database='trainee'\n",
    ")"
   ]
  },
  {
   "cell_type": "code",
   "execution_count": 3,
   "metadata": {},
   "outputs": [],
   "source": [
    "add_novela = (\"INSERT INTO tbNovela \"\n",
    "               \"(codigo_novela, nome_novela, data_primeiro_capitulo, data_ultimo_capitulo, horario_exibicao) \"\n",
    "               \"VALUES (%s, %s, %s, %s, %s)\")\n",
    "\n",
    "add_novela_problem = (\"INSERT INTO tbNovela \"\n",
    "               \"(codigo_novela, nome_novela, data_primeiro_capitulo, data_ultimo_capitulo) \"\n",
    "               \"VALUES (%s, %s, %s, %s)\")\n",
    "caps = [203, 201, 209, 25]\n",
    "data_novela_1 = (1, 'Mulheres apaixonadas', date(2003, 2, 17), date(2003, 10, 11), '20:00') #203 cap\n",
    "data_novela_2 = (2, 'Mulheres de Areia', date(1993, 2, 1), date(1993, 9, 25), '18:00') #201 cap\n",
    "data_novela_3 = (3, 'Chocolate com Pimenta', date(2003, 9, 8), date(2004, 5, 7)) #209 cap\n",
    "data_novela_4 = (4, 'Grande Sertão: Veredas', date(2017, 12, 18), date(2018, 1, 13),'22:00') #25 cap"
   ]
  },
  {
   "cell_type": "code",
   "execution_count": 4,
   "metadata": {},
   "outputs": [],
   "source": [
    "add_ator = (\"INSERT INTO tbAtor \"\n",
    "               \"(codigo_ator, nome_ator, idade, cidade_ator, salario_ator, sexo_ator) \"\n",
    "               \"VALUES (%s, %s, %s, %s, %s, %s)\")\n",
    "\n",
    "data_ator_1 = (1, 'Carlos Brunno', 24, 'Fortaleza', 2400.00, 'M')\n",
    "data_ator_2 = (2, 'Nityananda Barbosa', 22, 'Maranguape', 10000.00, 'M')\n",
    "data_ator_3 = (3, 'Joshuel Nobre', 22, 'Maranguape', 8500.00, 'M')\n",
    "data_ator_4 = (4, 'Monalisa Sousa', 22, 'Londres', 25000.00, 'F')"
   ]
  },
  {
   "cell_type": "code",
   "execution_count": 5,
   "metadata": {},
   "outputs": [],
   "source": [
    "add_personagem = (\"INSERT INTO tbPersonagem \"\n",
    "               \"(codigo_personagem, nome_personagem, idade_personagem, situacao_fnanceira_personagem, codigo_ator) \"\n",
    "               \"VALUES (%s, %s, %s, %s, %s)\")\n",
    "\n",
    "data_personagem_1 = (1, 'Carlos', 27, 'rico', 1)\n",
    "data_personagem_2 = (2, 'Daniel', 29, 'pobre', 2)\n",
    "data_personagem_3 = (3, 'Marcos', 25, 'rico', 3)\n",
    "data_personagem_4 = (4, 'Joana', 19, 'pobre', 4)"
   ]
  },
  {
   "cell_type": "code",
   "execution_count": 6,
   "metadata": {},
   "outputs": [],
   "source": [
    "add_novela_personagem = (\"INSERT INTO tbNovelaPersonagem \"\n",
    "               \"(codigo_personagem, codigo_novela) \"\n",
    "               \"VALUES (%s, %s)\")\n",
    "\n",
    "data_novela_personagem_1 = (1,1)\n",
    "data_novela_personagem_2 = (2,2)\n",
    "data_novela_personagem_3 = (3,3)\n",
    "data_novela_personagem_4 = (4,4)"
   ]
  },
  {
   "cell_type": "code",
   "execution_count": 7,
   "metadata": {},
   "outputs": [],
   "source": [
    "add_capitulo = (\"INSERT INTO tbCapitulo \"\n",
    "               \"(codigo_capitulo, nome_capitulo, data_exibicao_capitulo, codigo_novela) \"\n",
    "               \"VALUES (%s, %s, %s, %s)\")"
   ]
  },
  {
   "cell_type": "code",
   "execution_count": 8,
   "metadata": {},
   "outputs": [
    {
     "name": "stdout",
     "output_type": "stream",
     "text": [
      "0\n"
     ]
    },
    {
     "data": {
      "text/plain": [
       "True"
      ]
     },
     "execution_count": 8,
     "metadata": {},
     "output_type": "execute_result"
    }
   ],
   "source": [
    "cursor = con.cursor()\n",
    "# INSERT INTO tbNovela (codigo_novela, nome_novela, data_primeiro_capitulo, data_ultimo_capitulo, horario_exibicao) \n",
    "# VALUES (1, 'Mulheres apaixonadas', '2003-2-17', '2003-10-11', '20:00');\n",
    "\n",
    "# INSERT INTO tbNovela (codigo_novela, nome_novela, data_primeiro_capitulo, data_ultimo_capitulo, horario_exibicao) \n",
    "# VALUES (2, 'Mulheres de Areia', '1993-2-1', '1993-9-25', '18:00');\n",
    "\n",
    "# INSERT INTO tbNovela (codigo_novela, nome_novela, data_primeiro_capitulo, data_ultimo_capitulo) \n",
    "# VALUES (3, 'Chocolate com Pimenta', '2003-9-8', '2004-5-7');\n",
    "\n",
    "cursor.execute(add_novela, data_novela_1)\n",
    "cursor.execute(add_novela, data_novela_2)\n",
    "cursor.execute(add_novela_problem, data_novela_3)\n",
    "cursor.execute(add_novela, data_novela_4)\n",
    "\n",
    "novela_no = cursor.lastrowid\n",
    "print(novela_no)\n",
    "\n",
    "con.commit()\n",
    "cursor.close()"
   ]
  },
  {
   "cell_type": "code",
   "execution_count": 9,
   "metadata": {},
   "outputs": [
    {
     "name": "stdout",
     "output_type": "stream",
     "text": [
      "0\n"
     ]
    },
    {
     "data": {
      "text/plain": [
       "True"
      ]
     },
     "execution_count": 9,
     "metadata": {},
     "output_type": "execute_result"
    }
   ],
   "source": [
    "cursor = con.cursor()\n",
    "# INSERT INTO tbAtor (codigo_ator, nome_ator, idade, cidade_ator, salario_ator, sexo_ator)\n",
    "# VALUES (1, 'Carlos Brunno', 24, 'Fortaleza', 2400.00, 'M')\n",
    "\n",
    "# INSERT INTO tbAtor (codigo_ator, nome_ator, idade, cidade_ator, salario_ator, sexo_ator)\n",
    "# VALUES (2, 'Nityananda Barbosa', 22, 'Maranguape', 10000.00, 'M')\n",
    "\n",
    "# INSERT INTO tbAtor (codigo_ator, nome_ator, idade, cidade_ator, salario_ator, sexo_ator)\n",
    "# VALUES (3, 'Joshuel Nobre', 22, 'Maranguape', 8500.00, 'M')\n",
    "\n",
    "# INSERT INTO tbAtor (codigo_ator, nome_ator, idade, cidade_ator, salario_ator, sexo_ator)\n",
    "# VALUES (4, 'Monalisa Sousa', 22, 'Londres', 25000.00, 'F')\n",
    "\n",
    "cursor.execute(add_ator, data_ator_1)\n",
    "cursor.execute(add_ator, data_ator_2)\n",
    "cursor.execute(add_ator, data_ator_3)\n",
    "cursor.execute(add_ator, data_ator_4)\n",
    "\n",
    "novela_no = cursor.lastrowid\n",
    "print(novela_no)\n",
    "\n",
    "con.commit()\n",
    "cursor.close()"
   ]
  },
  {
   "cell_type": "code",
   "execution_count": 10,
   "metadata": {},
   "outputs": [
    {
     "name": "stdout",
     "output_type": "stream",
     "text": [
      "0\n"
     ]
    },
    {
     "data": {
      "text/plain": [
       "True"
      ]
     },
     "execution_count": 10,
     "metadata": {},
     "output_type": "execute_result"
    }
   ],
   "source": [
    "cursor = con.cursor()\n",
    "# INSERT INTO tbPersonagem (codigo_personagem, nome_personagem, idade_personagem, situacao_fnanceira_personagem, codigo_ator)\n",
    "# VALUES (1, 'Carlos', 27, 'rico', 1)\n",
    "\n",
    "# INSERT INTO tbPersonagem (codigo_personagem, nome_personagem, idade_personagem, situacao_fnanceira_personagem, codigo_ator)\n",
    "# VALUES (2, 'Daniel', 29, 'pobre', 2)\n",
    "\n",
    "# INSERT INTO tbPersonagem (codigo_personagem, nome_personagem, idade_personagem, situacao_fnanceira_personagem, codigo_ator)\n",
    "# VALUES (3, 'Marcos', 25, 'rico', 3)\n",
    "\n",
    "# INSERT INTO tbPersonagem (codigo_personagem, nome_personagem, idade_personagem, situacao_fnanceira_personagem, codigo_ator)\n",
    "# VALUES (4, 'Joana', 19, 'pobre', 4)\n",
    "\n",
    "cursor.execute(add_personagem, data_personagem_1)\n",
    "cursor.execute(add_personagem, data_personagem_2)\n",
    "cursor.execute(add_personagem, data_personagem_3)\n",
    "cursor.execute(add_personagem, data_personagem_4)\n",
    "\n",
    "novela_no = cursor.lastrowid\n",
    "print(novela_no)\n",
    "\n",
    "con.commit()\n",
    "cursor.close()"
   ]
  },
  {
   "cell_type": "code",
   "execution_count": 11,
   "metadata": {},
   "outputs": [
    {
     "name": "stdout",
     "output_type": "stream",
     "text": [
      "0\n"
     ]
    },
    {
     "data": {
      "text/plain": [
       "True"
      ]
     },
     "execution_count": 11,
     "metadata": {},
     "output_type": "execute_result"
    }
   ],
   "source": [
    "cursor = con.cursor()\n",
    "# INSERT INTO tbNovelaPersonagem (codigo_personagem, codigo_novela)\n",
    "# VALUES (1, 1)\n",
    "\n",
    "# INSERT INTO tbNovelaPersonagem (codigo_personagem, codigo_novela)\n",
    "# VALUES (2, 2)\n",
    "\n",
    "# INSERT INTO tbNovelaPersonagem (codigo_personagem, codigo_novela)\n",
    "# VALUES (3, 3)\n",
    "\n",
    "# INSERT INTO tbNovelaPersonagem (codigo_personagem, codigo_novela)\n",
    "# VALUES (4, 4)\n",
    "\n",
    "cursor.execute(add_novela_personagem, data_novela_personagem_1)\n",
    "cursor.execute(add_novela_personagem, data_novela_personagem_2)\n",
    "cursor.execute(add_novela_personagem, data_novela_personagem_3)\n",
    "cursor.execute(add_novela_personagem, data_novela_personagem_4)\n",
    "\n",
    "novela_no = cursor.lastrowid\n",
    "print(novela_no)\n",
    "\n",
    "con.commit()\n",
    "cursor.close()"
   ]
  },
  {
   "cell_type": "code",
   "execution_count": 8,
   "metadata": {},
   "outputs": [],
   "source": [
    "weeks = {6: 'domingo'}\n",
    "months_28 = {2 : 28}\n",
    "months_30 = {4 : 30, 6 : 30, 9 : 30, 11 : 30}\n",
    "months_31 = {1 : 31, 3 : 31, 5 : 31, 7 : 31, 8 : 31, 10 : 31, 12 : 31}\n",
    "# print(date(1999, 1, 25).weekday())"
   ]
  },
  {
   "cell_type": "code",
   "execution_count": 11,
   "metadata": {},
   "outputs": [],
   "source": [
    "# add_capitulo = (\"INSERT INTO tbCapitulo \"\n",
    "#                \"(codigo_capitulo, nome_capitulo, data_exibicao_capitulo) \"\n",
    "#                \"VALUES (%s, %s, %s)\")\n",
    "\n",
    "def add_cap(name, initial_data, caps, novela, last_id):\n",
    "    final_id = last_id\n",
    "    day = initial_data.day\n",
    "    month = initial_data.month\n",
    "    year = initial_data.year\n",
    "#     print('INITIAL: ',year, month, day)\n",
    "    ep = 0\n",
    "    for i in range(caps):\n",
    "        aux = ''\n",
    "        aux = name + '_cap_{}'.format(ep + 1)\n",
    "        ep +=1\n",
    "#         print(aux)\n",
    "        final_id += 1\n",
    "#         print('O ID É: {}'.format(final_id))\n",
    "        if i == 0:\n",
    "            if initial_data.weekday() in weeks.keys():\n",
    "                continue\n",
    "            else:\n",
    "                cursor = con.cursor()\n",
    "                data_cap = (final_id, aux, initial_data, novela)\n",
    "                cursor.execute(add_capitulo, data_cap)\n",
    "                novela_no = cursor.lastrowid\n",
    "                con.commit()\n",
    "                cursor.close()\n",
    "        else:\n",
    "            if month in months_28.keys():\n",
    "#                 print('Ainda é mês com 28 dias')\n",
    "                if day < 28:\n",
    "                    day += 1\n",
    "                else:\n",
    "                    month += 1\n",
    "                    day = 1\n",
    "#                 print(year, month, day)\n",
    "                if date(year, month, day).weekday() in weeks.keys():\n",
    "                    continue\n",
    "                else:\n",
    "                    cursor = con.cursor()\n",
    "                    data_cap = (final_id, aux, date(year, month, day), novela)\n",
    "                    cursor.execute(add_capitulo, data_cap)\n",
    "                    novela_no = cursor.lastrowid\n",
    "                    con.commit()\n",
    "                    cursor.close()\n",
    "            if month in months_30.keys():\n",
    "#                 print('Ainda é mês com 30 dias')\n",
    "                if day < 30:\n",
    "                    day += 1\n",
    "                else:\n",
    "                    month += 1\n",
    "                    day = 1\n",
    "#                 print(year, month, day)\n",
    "                if date(year, month, day).weekday() in weeks.keys():\n",
    "                    continue\n",
    "                else:\n",
    "                    cursor = con.cursor()\n",
    "                    data_cap = (final_id, aux, date(year, month, day), novela)\n",
    "                    cursor.execute(add_capitulo, data_cap)\n",
    "                    novela_no = cursor.lastrowid\n",
    "                    con.commit()\n",
    "                    cursor.close()\n",
    "            if month in months_31.keys():\n",
    "#                 print('Ainda é mês com 31 dias')\n",
    "                if day == 31 and month == 12:\n",
    "                    day = 1\n",
    "                    month = 1\n",
    "                    year += 1\n",
    "                elif day < 31:\n",
    "                    day += 1\n",
    "                else:\n",
    "                    month += 1\n",
    "                    day = 1\n",
    "#                 print(year, month, day)\n",
    "                if date(year, month, day).weekday() in weeks.keys():\n",
    "                    continue\n",
    "                else:\n",
    "                    cursor = con.cursor()\n",
    "                    data_cap = (final_id, aux, date(year, month, day), novela)\n",
    "                    cursor.execute(add_capitulo, data_cap)\n",
    "                    novela_no = cursor.lastrowid\n",
    "                    con.commit()\n",
    "                    cursor.close()\n",
    "        \n",
    "    return final_id\n",
    "\n",
    "def apply_query(query):\n",
    "    cursor = con.cursor()\n",
    "    cursor.execute(query)\n",
    "    myresult = cursor.fetchall()\n",
    "    # print(myresult)\n",
    "\n",
    "    chosen_1 = 0\n",
    "    chosen_2 = 0\n",
    "    for x in myresult:\n",
    "        chosen_1 = list(x)[0]\n",
    "        chosen_2 = list(x)[1]\n",
    "    return chosen_1, chosen_2"
   ]
  },
  {
   "cell_type": "code",
   "execution_count": 12,
   "metadata": {},
   "outputs": [
    {
     "name": "stdout",
     "output_type": "stream",
     "text": [
      "1 2003-02-17\n",
      "72\n"
     ]
    }
   ],
   "source": [
    "cap_nov_1 = 72\n",
    "cap_nov_2 = 201\n",
    "cap_nov_3 = 35\n",
    "cap_nov_4 = 25\n",
    "\n",
    "# SELECT codigo_novela FROM tbNovela\n",
    "# WHERE nome_novela LIKE 'Mulheres apaixonadas'\n",
    "\n",
    "query_1 = (\"SELECT codigo_novela, data_primeiro_capitulo FROM trainee.tbNovela \"\n",
    "         \"WHERE nome_novela LIKE 'Mulheres apaixonadas%' \")\n",
    "\n",
    "query_2 = (\"SELECT codigo_novela, data_primeiro_capitulo FROM trainee.tbNovela \"\n",
    "         \"WHERE nome_novela LIKE 'Mulheres de Areia%' \")\n",
    "\n",
    "query_3 = (\"SELECT codigo_novela, data_primeiro_capitulo FROM trainee.tbNovela \"\n",
    "         \"WHERE nome_novela LIKE 'Chocolate com Pimenta%' \")\n",
    "\n",
    "query_4 = (\"SELECT codigo_novela, data_primeiro_capitulo FROM trainee.tbNovela \"\n",
    "         \"WHERE nome_novela LIKE 'Grande Sertão: Veredas%' \")\n",
    "\n",
    "chose_1, data_1 = apply_query(query_1)\n",
    "print(chose_1, data_1)\n",
    "\n",
    "last_id = add_cap('mulheres_apaixonadas', data_1, cap_nov_1, chose_1, 0)\n",
    "print(last_id)"
   ]
  },
  {
   "cell_type": "code",
   "execution_count": 13,
   "metadata": {},
   "outputs": [
    {
     "name": "stdout",
     "output_type": "stream",
     "text": [
      "2 1993-02-01\n",
      "97\n"
     ]
    }
   ],
   "source": [
    "chose_2, data_2 = apply_query(query_2)\n",
    "print(chose_2, data_2)\n",
    "\n",
    "last_id = add_cap('mulheres_de_areia', data_2, cap_nov_4, chose_2, last_id)\n",
    "print(last_id)"
   ]
  },
  {
   "cell_type": "code",
   "execution_count": null,
   "metadata": {},
   "outputs": [],
   "source": []
  }
 ],
 "metadata": {
  "kernelspec": {
   "display_name": "Python 3",
   "language": "python",
   "name": "python3"
  },
  "language_info": {
   "codemirror_mode": {
    "name": "ipython",
    "version": 3
   },
   "file_extension": ".py",
   "mimetype": "text/x-python",
   "name": "python",
   "nbconvert_exporter": "python",
   "pygments_lexer": "ipython3",
   "version": "3.8.5"
  }
 },
 "nbformat": 4,
 "nbformat_minor": 5
}
