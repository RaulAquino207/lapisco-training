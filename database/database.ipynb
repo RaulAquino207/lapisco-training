{
 "cells": [
  {
   "cell_type": "code",
   "execution_count": 1,
   "id": "f7d78b4d",
   "metadata": {},
   "outputs": [],
   "source": [
    "import mysql.connector\n",
    "from datetime import date"
   ]
  },
  {
   "cell_type": "code",
   "execution_count": 2,
   "id": "08c00403",
   "metadata": {},
   "outputs": [],
   "source": [
    "con = mysql.connector.connect(\n",
    "    user='root',\n",
    "    password='Raulaquino@2011',\n",
    "    host='localhost',\n",
    "    database='trainee'\n",
    ")"
   ]
  },
  {
   "cell_type": "code",
   "execution_count": 3,
   "id": "d8e163e9",
   "metadata": {},
   "outputs": [],
   "source": [
    "add_novela = (\"INSERT INTO tbNovela \"\n",
    "               \"(codigo_novela, nome_novela, data_primeiro_capitulo, data_ultimo_capitulo, horario_exibicao) \"\n",
    "               \"VALUES (%s, %s, %s, %s, %s)\")\n",
    "\n",
    "add_novela_problem = (\"INSERT INTO tbNovela \"\n",
    "               \"(codigo_novela, nome_novela, data_primeiro_capitulo, data_ultimo_capitulo) \"\n",
    "               \"VALUES (%s, %s, %s, %s)\")\n",
    "\n",
    "data_novela_1 = (1, 'Mulheres apaixonadas', date(2003, 2, 17), date(2003, 10, 11), '20:00') #\n",
    "data_novela_2 = (2, 'Mulheres de Areia', date(1993, 2, 1), date(1993, 9, 25), '18:00') #\n",
    "data_novela_3 = (3, 'Chocolate com Pimenta', date(2003, 9, 8), date(2004, 5, 7)) #\n",
    "data_novela_4 = (4, 'Grande Sertão: Veredas', date(2017, 12, 18), date(2018, 1, 13)) #25 cap"
   ]
  },
  {
   "cell_type": "code",
   "execution_count": 4,
   "id": "da8a35a5",
   "metadata": {},
   "outputs": [],
   "source": [
    "add_ator = (\"INSERT INTO tbAtor \"\n",
    "               \"(codigo_ator, nome_ator, idade, cidade_ator, salario_ator, sexo_ator) \"\n",
    "               \"VALUES (%s, %s, %s, %s, %s, %s)\")\n",
    "\n",
    "data_ator_1 = (1, 'Carlos Brunno', 24, 'Fortaleza', 2400.00, 'M')\n",
    "data_ator_2 = (2, 'Nityananda Barbosa', 22, 'Maranguape', 10000.00, 'M')\n",
    "data_ator_3 = (3, 'Joshuel Nobre', 22, 'Maranguape', 8500.00, 'M')\n",
    "data_ator_4 = (4, 'Monalisa Sousa', 22, 'Londres', 25000.00, 'F')"
   ]
  },
  {
   "cell_type": "code",
   "execution_count": 5,
   "id": "ac6009e7",
   "metadata": {},
   "outputs": [],
   "source": [
    "add_personagem = (\"INSERT INTO tbPersonagem \"\n",
    "               \"(codigo_personagem, nome_personagem, idade_personagem, situacao_fnanceira_personagem, codigo_ator) \"\n",
    "               \"VALUES (%s, %s, %s, %s, %s)\")\n",
    "\n",
    "data_personagem_1 = (1, 'Carlos', 27, 'rico', 1)\n",
    "data_personagem_2 = (2, 'Daniel', 29, 'pobre', 2)\n",
    "data_personagem_3 = (3, 'Marcos', 25, 'rico', 3)\n",
    "data_personagem_4 = (4, 'Joana', 19, 'pobre', 4)"
   ]
  },
  {
   "cell_type": "code",
   "execution_count": 6,
   "id": "9290b3f0",
   "metadata": {},
   "outputs": [],
   "source": [
    "add__novela_personagem = (\"INSERT INTO tbNovelaPersonagem \"\n",
    "               \"(codigo_personagem, codigo_novela) \"\n",
    "               \"VALUES (%s, %s)\")\n",
    "\n",
    "data_novela_personagem_1 = (1, 1)\n",
    "data_novela_personagem_2 = (2, 2)\n",
    "data_novela_personagem_3 = (3, 3)\n",
    "data_novela_personagem_4 = (4, 4)"
   ]
  },
  {
   "cell_type": "code",
   "execution_count": 7,
   "id": "d609b073",
   "metadata": {},
   "outputs": [
    {
     "name": "stdout",
     "output_type": "stream",
     "text": [
      "0\n"
     ]
    },
    {
     "data": {
      "text/plain": [
       "True"
      ]
     },
     "execution_count": 7,
     "metadata": {},
     "output_type": "execute_result"
    }
   ],
   "source": [
    "cursor = con.cursor()\n",
    "# INSERT INTO tbNovela (codigo_novela, nome_novela, data_primeiro_capitulo, data_ultimo_capitulo, horario_exibicao) \n",
    "# VALUES (1, 'Mulheres apaixonadas', '2003-2-17', '2003-10-11', '20:00');\n",
    "\n",
    "# INSERT INTO tbNovela (codigo_novela, nome_novela, data_primeiro_capitulo, data_ultimo_capitulo, horario_exibicao) \n",
    "# VALUES (2, 'Mulheres de Areia', '1993-2-1', '1993-9-25', '18:00');\n",
    "\n",
    "# INSERT INTO tbNovela (codigo_novela, nome_novela, data_primeiro_capitulo, data_ultimo_capitulo) \n",
    "# VALUES (3, 'Chocolate com Pimenta', '2003-9-8', '2004-5-7');\n",
    "\n",
    "cursor.execute(add_novela, data_novela_1)\n",
    "cursor.execute(add_novela, data_novela_2)\n",
    "cursor.execute(add_novela_problem, data_novela_3)\n",
    "cursor.execute(add_novela, data_novela_4)\n",
    "\n",
    "novela_no = cursor.lastrowid\n",
    "print(novela_no)\n",
    "\n",
    "con.commit()\n",
    "cursor.close()"
   ]
  },
  {
   "cell_type": "code",
   "execution_count": 8,
   "id": "9922fc94",
   "metadata": {},
   "outputs": [
    {
     "name": "stdout",
     "output_type": "stream",
     "text": [
      "0\n"
     ]
    },
    {
     "data": {
      "text/plain": [
       "True"
      ]
     },
     "execution_count": 8,
     "metadata": {},
     "output_type": "execute_result"
    }
   ],
   "source": [
    "cursor = con.cursor()\n",
    "# INSERT INTO tbAtor (codigo_ator, nome_ator, idade, cidade_ator, salario_ator, sexo_ator)\n",
    "# VALUES (1, 'Carlos Brunno', 24, 'Fortaleza', 2400.00, 'M')\n",
    "\n",
    "# INSERT INTO tbAtor (codigo_ator, nome_ator, idade, cidade_ator, salario_ator, sexo_ator)\n",
    "# VALUES (2, 'Nityananda Barbosa', 22, 'Maranguape', 10000.00, 'M')\n",
    "\n",
    "# INSERT INTO tbAtor (codigo_ator, nome_ator, idade, cidade_ator, salario_ator, sexo_ator)\n",
    "# VALUES (3, 'Joshuel Nobre', 22, 'Maranguape', 8500.00, 'M')\n",
    "\n",
    "# INSERT INTO tbAtor (codigo_ator, nome_ator, idade, cidade_ator, salario_ator, sexo_ator)\n",
    "# VALUES (4, 'Monalisa Sousa', 22, 'Londres', 25000.00, 'F')\n",
    "\n",
    "cursor.execute(add_ator, data_ator_1)\n",
    "cursor.execute(add_ator, data_ator_2)\n",
    "cursor.execute(add_ator, data_ator_3)\n",
    "cursor.execute(add_ator, data_ator_4)\n",
    "\n",
    "novela_no = cursor.lastrowid\n",
    "print(novela_no)\n",
    "\n",
    "con.commit()\n",
    "cursor.close()"
   ]
  },
  {
   "cell_type": "code",
   "execution_count": 9,
   "id": "60b52887",
   "metadata": {},
   "outputs": [
    {
     "name": "stdout",
     "output_type": "stream",
     "text": [
      "0\n"
     ]
    },
    {
     "data": {
      "text/plain": [
       "True"
      ]
     },
     "execution_count": 9,
     "metadata": {},
     "output_type": "execute_result"
    }
   ],
   "source": [
    "cursor = con.cursor()\n",
    "# INSERT INTO tbPersonagem (codigo_personagem, nome_personagem, idade_personagem, situacao_fnanceira_personagem, codigo_ator)\n",
    "# VALUES (1, 'Carlos', 27, 'rico', 1)\n",
    "\n",
    "# INSERT INTO tbPersonagem (codigo_personagem, nome_personagem, idade_personagem, situacao_fnanceira_personagem, codigo_ator)\n",
    "# VALUES (2, 'Daniel', 29, 'pobre', 2)\n",
    "\n",
    "# INSERT INTO tbPersonagem (codigo_personagem, nome_personagem, idade_personagem, situacao_fnanceira_personagem, codigo_ator)\n",
    "# VALUES (3, 'Marcos', 25, 'rico', 3)\n",
    "\n",
    "# INSERT INTO tbPersonagem (codigo_personagem, nome_personagem, idade_personagem, situacao_fnanceira_personagem, codigo_ator)\n",
    "# VALUES (4, 'Joana', 19, 'pobre', 4)\n",
    "\n",
    "cursor.execute(add_personagem, data_personagem_1)\n",
    "cursor.execute(add_personagem, data_personagem_2)\n",
    "cursor.execute(add_personagem, data_personagem_3)\n",
    "cursor.execute(add_personagem, data_personagem_4)\n",
    "\n",
    "novela_no = cursor.lastrowid\n",
    "print(novela_no)\n",
    "\n",
    "con.commit()\n",
    "cursor.close()"
   ]
  },
  {
   "cell_type": "code",
   "execution_count": 10,
   "id": "60a62215",
   "metadata": {},
   "outputs": [
    {
     "ename": "IntegrityError",
     "evalue": "1452 (23000): Cannot add or update a child row: a foreign key constraint fails (`trainee`.`tbNovelaPersonagem`, CONSTRAINT `fk_tbNovelaPersonagem_tbNovela` FOREIGN KEY (`codigo_novela`) REFERENCES `tbNovela` (`codigo_novela`) ON DELETE CASCADE ON UPDATE CASCADE)",
     "output_type": "error",
     "traceback": [
      "\u001b[0;31m---------------------------------------------------------------------------\u001b[0m",
      "\u001b[0;31mMySQLInterfaceError\u001b[0m                       Traceback (most recent call last)",
      "\u001b[0;32m~/.local/lib/python3.8/site-packages/mysql/connector/connection_cext.py\u001b[0m in \u001b[0;36mcmd_query\u001b[0;34m(self, query, raw, buffered, raw_as_string)\u001b[0m\n\u001b[1;32m    505\u001b[0m                 \u001b[0mquery\u001b[0m \u001b[0;34m=\u001b[0m \u001b[0mquery\u001b[0m\u001b[0;34m.\u001b[0m\u001b[0mencode\u001b[0m\u001b[0;34m(\u001b[0m\u001b[0;34m'utf-8'\u001b[0m\u001b[0;34m)\u001b[0m\u001b[0;34m\u001b[0m\u001b[0;34m\u001b[0m\u001b[0m\n\u001b[0;32m--> 506\u001b[0;31m             self._cmysql.query(query,\n\u001b[0m\u001b[1;32m    507\u001b[0m                                \u001b[0mraw\u001b[0m\u001b[0;34m=\u001b[0m\u001b[0mraw\u001b[0m\u001b[0;34m,\u001b[0m \u001b[0mbuffered\u001b[0m\u001b[0;34m=\u001b[0m\u001b[0mbuffered\u001b[0m\u001b[0;34m,\u001b[0m\u001b[0;34m\u001b[0m\u001b[0;34m\u001b[0m\u001b[0m\n",
      "\u001b[0;31mMySQLInterfaceError\u001b[0m: Cannot add or update a child row: a foreign key constraint fails (`trainee`.`tbNovelaPersonagem`, CONSTRAINT `fk_tbNovelaPersonagem_tbNovela` FOREIGN KEY (`codigo_novela`) REFERENCES `tbNovela` (`codigo_novela`) ON DELETE CASCADE ON UPDATE CASCADE)",
      "\nDuring handling of the above exception, another exception occurred:\n",
      "\u001b[0;31mIntegrityError\u001b[0m                            Traceback (most recent call last)",
      "\u001b[0;32m<ipython-input-10-b2c2598dc5a6>\u001b[0m in \u001b[0;36m<module>\u001b[0;34m\u001b[0m\n\u001b[1;32m     15\u001b[0m \u001b[0mcursor\u001b[0m\u001b[0;34m.\u001b[0m\u001b[0mexecute\u001b[0m\u001b[0;34m(\u001b[0m\u001b[0madd__novela_personagem\u001b[0m\u001b[0;34m,\u001b[0m \u001b[0mdata_novela_personagem_2\u001b[0m\u001b[0;34m)\u001b[0m\u001b[0;34m\u001b[0m\u001b[0;34m\u001b[0m\u001b[0m\n\u001b[1;32m     16\u001b[0m \u001b[0mcursor\u001b[0m\u001b[0;34m.\u001b[0m\u001b[0mexecute\u001b[0m\u001b[0;34m(\u001b[0m\u001b[0madd__novela_personagem\u001b[0m\u001b[0;34m,\u001b[0m \u001b[0mdata_novela_personagem_3\u001b[0m\u001b[0;34m)\u001b[0m\u001b[0;34m\u001b[0m\u001b[0;34m\u001b[0m\u001b[0m\n\u001b[0;32m---> 17\u001b[0;31m \u001b[0mcursor\u001b[0m\u001b[0;34m.\u001b[0m\u001b[0mexecute\u001b[0m\u001b[0;34m(\u001b[0m\u001b[0madd__novela_personagem\u001b[0m\u001b[0;34m,\u001b[0m \u001b[0mdata_novela_personagem_4\u001b[0m\u001b[0;34m)\u001b[0m\u001b[0;34m\u001b[0m\u001b[0;34m\u001b[0m\u001b[0m\n\u001b[0m\u001b[1;32m     18\u001b[0m \u001b[0;34m\u001b[0m\u001b[0m\n\u001b[1;32m     19\u001b[0m \u001b[0mnovela_no\u001b[0m \u001b[0;34m=\u001b[0m \u001b[0mcursor\u001b[0m\u001b[0;34m.\u001b[0m\u001b[0mlastrowid\u001b[0m\u001b[0;34m\u001b[0m\u001b[0;34m\u001b[0m\u001b[0m\n",
      "\u001b[0;32m~/.local/lib/python3.8/site-packages/mysql/connector/cursor_cext.py\u001b[0m in \u001b[0;36mexecute\u001b[0;34m(self, operation, params, multi)\u001b[0m\n\u001b[1;32m    267\u001b[0m \u001b[0;34m\u001b[0m\u001b[0m\n\u001b[1;32m    268\u001b[0m         \u001b[0;32mtry\u001b[0m\u001b[0;34m:\u001b[0m\u001b[0;34m\u001b[0m\u001b[0;34m\u001b[0m\u001b[0m\n\u001b[0;32m--> 269\u001b[0;31m             result = self._cnx.cmd_query(stmt, raw=self._raw,\n\u001b[0m\u001b[1;32m    270\u001b[0m                                          \u001b[0mbuffered\u001b[0m\u001b[0;34m=\u001b[0m\u001b[0mself\u001b[0m\u001b[0;34m.\u001b[0m\u001b[0m_buffered\u001b[0m\u001b[0;34m,\u001b[0m\u001b[0;34m\u001b[0m\u001b[0;34m\u001b[0m\u001b[0m\n\u001b[1;32m    271\u001b[0m                                          raw_as_string=self._raw_as_string)\n",
      "\u001b[0;32m~/.local/lib/python3.8/site-packages/mysql/connector/connection_cext.py\u001b[0m in \u001b[0;36mcmd_query\u001b[0;34m(self, query, raw, buffered, raw_as_string)\u001b[0m\n\u001b[1;32m    508\u001b[0m                                raw_as_string=raw_as_string)\n\u001b[1;32m    509\u001b[0m         \u001b[0;32mexcept\u001b[0m \u001b[0mMySQLInterfaceError\u001b[0m \u001b[0;32mas\u001b[0m \u001b[0mexc\u001b[0m\u001b[0;34m:\u001b[0m\u001b[0;34m\u001b[0m\u001b[0;34m\u001b[0m\u001b[0m\n\u001b[0;32m--> 510\u001b[0;31m             raise errors.get_mysql_exception(exc.errno, msg=exc.msg,\n\u001b[0m\u001b[1;32m    511\u001b[0m                                              sqlstate=exc.sqlstate)\n\u001b[1;32m    512\u001b[0m         \u001b[0;32mexcept\u001b[0m \u001b[0mAttributeError\u001b[0m\u001b[0;34m:\u001b[0m\u001b[0;34m\u001b[0m\u001b[0;34m\u001b[0m\u001b[0m\n",
      "\u001b[0;31mIntegrityError\u001b[0m: 1452 (23000): Cannot add or update a child row: a foreign key constraint fails (`trainee`.`tbNovelaPersonagem`, CONSTRAINT `fk_tbNovelaPersonagem_tbNovela` FOREIGN KEY (`codigo_novela`) REFERENCES `tbNovela` (`codigo_novela`) ON DELETE CASCADE ON UPDATE CASCADE)"
     ]
    }
   ],
   "source": [
    "cursor = con.cursor()\n",
    "# INSERT INTO tbNovelaPersonagem (codigo_personagem, codigo_novela)\n",
    "# VALUES (1, 1)\n",
    "\n",
    "# INSERT INTO tbNovelaPersonagem (codigo_personagem, codigo_novela)\n",
    "# VALUES (2, 2)\n",
    "\n",
    "# INSERT INTO tbNovelaPersonagem (codigo_personagem, codigo_novela)\n",
    "# VALUES (3, 3)\n",
    "\n",
    "# INSERT INTO tbNovelaPersonagem (codigo_personagem, codigo_novela)\n",
    "# VALUES (4, 4)\n",
    "\n",
    "cursor.execute(add__novela_personagem, data_novela_personagem_1)\n",
    "cursor.execute(add__novela_personagem, data_novela_personagem_2)\n",
    "cursor.execute(add__novela_personagem, data_novela_personagem_3)\n",
    "cursor.execute(add__novela_personagem, data_novela_personagem_4)\n",
    "\n",
    "novela_no = cursor.lastrowid\n",
    "print(novela_no)\n",
    "\n",
    "con.commit()\n",
    "cursor.close()"
   ]
  },
  {
   "cell_type": "code",
   "execution_count": null,
   "id": "233066fa",
   "metadata": {},
   "outputs": [],
   "source": []
  }
 ],
 "metadata": {
  "kernelspec": {
   "display_name": "Python 3",
   "language": "python",
   "name": "python3"
  },
  "language_info": {
   "codemirror_mode": {
    "name": "ipython",
    "version": 3
   },
   "file_extension": ".py",
   "mimetype": "text/x-python",
   "name": "python",
   "nbconvert_exporter": "python",
   "pygments_lexer": "ipython3",
   "version": "3.8.5"
  }
 },
 "nbformat": 4,
 "nbformat_minor": 5
}
