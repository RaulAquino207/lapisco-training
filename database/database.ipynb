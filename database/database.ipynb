{
 "cells": [
  {
   "cell_type": "code",
   "execution_count": 10,
   "id": "f7d78b4d",
   "metadata": {},
   "outputs": [],
   "source": [
    "import mysql.connector\n",
    "from datetime import date"
   ]
  },
  {
   "cell_type": "code",
   "execution_count": 11,
   "id": "08c00403",
   "metadata": {},
   "outputs": [],
   "source": [
    "con = mysql.connector.connect(\n",
    "    user='root',\n",
    "    password='Raulaquino@2011',\n",
    "    host='localhost',\n",
    "    database='trainee'\n",
    ")"
   ]
  },
  {
   "cell_type": "code",
   "execution_count": 33,
   "id": "d8e163e9",
   "metadata": {},
   "outputs": [],
   "source": [
    "add_novela = (\"INSERT INTO tbNovela \"\n",
    "               \"(codigo_novela, nome_novela, data_primeiro_capitulo, data_ultimo_capitulo, horario_exibicao) \"\n",
    "               \"VALUES (%s, %s, %s, %s, %s)\")\n",
    "\n",
    "add_novela_problem = (\"INSERT INTO tbNovela \"\n",
    "               \"(codigo_novela, nome_novela, data_primeiro_capitulo, data_ultimo_capitulo) \"\n",
    "               \"VALUES (%s, %s, %s, %s)\")\n",
    "caps = [203, 201, 209, 25]\n",
    "data_novela_1 = (1, 'Mulheres apaixonadas', date(2003, 2, 17), date(2003, 10, 11), '20:00') #203 cap\n",
    "data_novela_2 = (2, 'Mulheres de Areia', date(1993, 2, 1), date(1993, 9, 25), '18:00') #201 cap\n",
    "data_novela_3 = (3, 'Chocolate com Pimenta', date(2003, 9, 8), date(2004, 5, 7)) #209 cap\n",
    "data_novela_4 = (4, 'Grande Sertão: Veredas', date(2017, 12, 18), date(2018, 1, 13),'22:00') #25 cap"
   ]
  },
  {
   "cell_type": "code",
   "execution_count": 13,
   "id": "da8a35a5",
   "metadata": {},
   "outputs": [],
   "source": [
    "add_ator = (\"INSERT INTO tbAtor \"\n",
    "               \"(codigo_ator, nome_ator, idade, cidade_ator, salario_ator, sexo_ator) \"\n",
    "               \"VALUES (%s, %s, %s, %s, %s, %s)\")\n",
    "\n",
    "data_ator_1 = (1, 'Carlos Brunno', 24, 'Fortaleza', 2400.00, 'M')\n",
    "data_ator_2 = (2, 'Nityananda Barbosa', 22, 'Maranguape', 10000.00, 'M')\n",
    "data_ator_3 = (3, 'Joshuel Nobre', 22, 'Maranguape', 8500.00, 'M')\n",
    "data_ator_4 = (4, 'Monalisa Sousa', 22, 'Londres', 25000.00, 'F')"
   ]
  },
  {
   "cell_type": "code",
   "execution_count": 14,
   "id": "ac6009e7",
   "metadata": {},
   "outputs": [],
   "source": [
    "add_personagem = (\"INSERT INTO tbPersonagem \"\n",
    "               \"(codigo_personagem, nome_personagem, idade_personagem, situacao_fnanceira_personagem, codigo_ator) \"\n",
    "               \"VALUES (%s, %s, %s, %s, %s)\")\n",
    "\n",
    "data_personagem_1 = (1, 'Carlos', 27, 'rico', 1)\n",
    "data_personagem_2 = (2, 'Daniel', 29, 'pobre', 2)\n",
    "data_personagem_3 = (3, 'Marcos', 25, 'rico', 3)\n",
    "data_personagem_4 = (4, 'Joana', 19, 'pobre', 4)"
   ]
  },
  {
   "cell_type": "code",
   "execution_count": 34,
   "id": "9290b3f0",
   "metadata": {},
   "outputs": [],
   "source": [
    "add__capitulo = (\"INSERT INTO tbCapitulo \"\n",
    "               \"(codigo_capitulo, nome_capitulo, data_exibicao_capitulo) \"\n",
    "               \"VALUES (%s, %s, %s)\")"
   ]
  },
  {
   "cell_type": "code",
   "execution_count": null,
   "id": "a6e7f566",
   "metadata": {},
   "outputs": [],
   "source": [
    "add__novela_personagem = (\"INSERT INTO tbNovelaPersonagem \"\n",
    "               \"(codigo_personagem, codigo_novela) \"\n",
    "               \"VALUES (%s, %s)\")"
   ]
  },
  {
   "cell_type": "code",
   "execution_count": 16,
   "id": "d609b073",
   "metadata": {},
   "outputs": [
    {
     "name": "stdout",
     "output_type": "stream",
     "text": [
      "0\n"
     ]
    },
    {
     "data": {
      "text/plain": [
       "True"
      ]
     },
     "execution_count": 16,
     "metadata": {},
     "output_type": "execute_result"
    }
   ],
   "source": [
    "cursor = con.cursor()\n",
    "# INSERT INTO tbNovela (codigo_novela, nome_novela, data_primeiro_capitulo, data_ultimo_capitulo, horario_exibicao) \n",
    "# VALUES (1, 'Mulheres apaixonadas', '2003-2-17', '2003-10-11', '20:00');\n",
    "\n",
    "# INSERT INTO tbNovela (codigo_novela, nome_novela, data_primeiro_capitulo, data_ultimo_capitulo, horario_exibicao) \n",
    "# VALUES (2, 'Mulheres de Areia', '1993-2-1', '1993-9-25', '18:00');\n",
    "\n",
    "# INSERT INTO tbNovela (codigo_novela, nome_novela, data_primeiro_capitulo, data_ultimo_capitulo) \n",
    "# VALUES (3, 'Chocolate com Pimenta', '2003-9-8', '2004-5-7');\n",
    "\n",
    "cursor.execute(add_novela, data_novela_1)\n",
    "cursor.execute(add_novela, data_novela_2)\n",
    "cursor.execute(add_novela_problem, data_novela_3)\n",
    "cursor.execute(add_novela, data_novela_4)\n",
    "\n",
    "novela_no = cursor.lastrowid\n",
    "print(novela_no)\n",
    "\n",
    "con.commit()\n",
    "cursor.close()"
   ]
  },
  {
   "cell_type": "code",
   "execution_count": 17,
   "id": "9922fc94",
   "metadata": {},
   "outputs": [
    {
     "name": "stdout",
     "output_type": "stream",
     "text": [
      "0\n"
     ]
    },
    {
     "data": {
      "text/plain": [
       "True"
      ]
     },
     "execution_count": 17,
     "metadata": {},
     "output_type": "execute_result"
    }
   ],
   "source": [
    "cursor = con.cursor()\n",
    "# INSERT INTO tbAtor (codigo_ator, nome_ator, idade, cidade_ator, salario_ator, sexo_ator)\n",
    "# VALUES (1, 'Carlos Brunno', 24, 'Fortaleza', 2400.00, 'M')\n",
    "\n",
    "# INSERT INTO tbAtor (codigo_ator, nome_ator, idade, cidade_ator, salario_ator, sexo_ator)\n",
    "# VALUES (2, 'Nityananda Barbosa', 22, 'Maranguape', 10000.00, 'M')\n",
    "\n",
    "# INSERT INTO tbAtor (codigo_ator, nome_ator, idade, cidade_ator, salario_ator, sexo_ator)\n",
    "# VALUES (3, 'Joshuel Nobre', 22, 'Maranguape', 8500.00, 'M')\n",
    "\n",
    "# INSERT INTO tbAtor (codigo_ator, nome_ator, idade, cidade_ator, salario_ator, sexo_ator)\n",
    "# VALUES (4, 'Monalisa Sousa', 22, 'Londres', 25000.00, 'F')\n",
    "\n",
    "cursor.execute(add_ator, data_ator_1)\n",
    "cursor.execute(add_ator, data_ator_2)\n",
    "cursor.execute(add_ator, data_ator_3)\n",
    "cursor.execute(add_ator, data_ator_4)\n",
    "\n",
    "novela_no = cursor.lastrowid\n",
    "print(novela_no)\n",
    "\n",
    "con.commit()\n",
    "cursor.close()"
   ]
  },
  {
   "cell_type": "code",
   "execution_count": 18,
   "id": "60b52887",
   "metadata": {},
   "outputs": [
    {
     "name": "stdout",
     "output_type": "stream",
     "text": [
      "0\n"
     ]
    },
    {
     "data": {
      "text/plain": [
       "True"
      ]
     },
     "execution_count": 18,
     "metadata": {},
     "output_type": "execute_result"
    }
   ],
   "source": [
    "cursor = con.cursor()\n",
    "# INSERT INTO tbPersonagem (codigo_personagem, nome_personagem, idade_personagem, situacao_fnanceira_personagem, codigo_ator)\n",
    "# VALUES (1, 'Carlos', 27, 'rico', 1)\n",
    "\n",
    "# INSERT INTO tbPersonagem (codigo_personagem, nome_personagem, idade_personagem, situacao_fnanceira_personagem, codigo_ator)\n",
    "# VALUES (2, 'Daniel', 29, 'pobre', 2)\n",
    "\n",
    "# INSERT INTO tbPersonagem (codigo_personagem, nome_personagem, idade_personagem, situacao_fnanceira_personagem, codigo_ator)\n",
    "# VALUES (3, 'Marcos', 25, 'rico', 3)\n",
    "\n",
    "# INSERT INTO tbPersonagem (codigo_personagem, nome_personagem, idade_personagem, situacao_fnanceira_personagem, codigo_ator)\n",
    "# VALUES (4, 'Joana', 19, 'pobre', 4)\n",
    "\n",
    "cursor.execute(add_personagem, data_personagem_1)\n",
    "cursor.execute(add_personagem, data_personagem_2)\n",
    "cursor.execute(add_personagem, data_personagem_3)\n",
    "cursor.execute(add_personagem, data_personagem_4)\n",
    "\n",
    "novela_no = cursor.lastrowid\n",
    "print(novela_no)\n",
    "\n",
    "con.commit()\n",
    "cursor.close()"
   ]
  },
  {
   "cell_type": "code",
   "execution_count": 19,
   "id": "60a62215",
   "metadata": {},
   "outputs": [
    {
     "name": "stdout",
     "output_type": "stream",
     "text": [
      "0\n"
     ]
    },
    {
     "data": {
      "text/plain": [
       "True"
      ]
     },
     "execution_count": 19,
     "metadata": {},
     "output_type": "execute_result"
    }
   ],
   "source": [
    "cursor = con.cursor()\n",
    "# INSERT INTO tbNovelaPersonagem (codigo_personagem, codigo_novela)\n",
    "# VALUES (1, 1)\n",
    "\n",
    "# INSERT INTO tbNovelaPersonagem (codigo_personagem, codigo_novela)\n",
    "# VALUES (2, 2)\n",
    "\n",
    "# INSERT INTO tbNovelaPersonagem (codigo_personagem, codigo_novela)\n",
    "# VALUES (3, 3)\n",
    "\n",
    "# INSERT INTO tbNovelaPersonagem (codigo_personagem, codigo_novela)\n",
    "# VALUES (4, 4)\n",
    "\n",
    "cursor.execute(add__novela_personagem, data_novela_personagem_1)\n",
    "cursor.execute(add__novela_personagem, data_novela_personagem_2)\n",
    "cursor.execute(add__novela_personagem, data_novela_personagem_3)\n",
    "cursor.execute(add__novela_personagem, data_novela_personagem_4)\n",
    "\n",
    "novela_no = cursor.lastrowid\n",
    "print(novela_no)\n",
    "\n",
    "con.commit()\n",
    "cursor.close()"
   ]
  },
  {
   "cell_type": "code",
   "execution_count": 35,
   "id": "233066fa",
   "metadata": {},
   "outputs": [],
   "source": [
    "week = {0: 'segunda', 1: 'terça', 2: 'quarta', 3: 'quinta', 4: 'sexta', 5: 'sábado', 6: 'domingo'}\n",
    "# print(date(1999, 1, 25).weekday())"
   ]
  }
 ],
 "metadata": {
  "kernelspec": {
   "display_name": "Python 3",
   "language": "python",
   "name": "python3"
  },
  "language_info": {
   "codemirror_mode": {
    "name": "ipython",
    "version": 3
   },
   "file_extension": ".py",
   "mimetype": "text/x-python",
   "name": "python",
   "nbconvert_exporter": "python",
   "pygments_lexer": "ipython3",
   "version": "3.8.5"
  }
 },
 "nbformat": 4,
 "nbformat_minor": 5
}
